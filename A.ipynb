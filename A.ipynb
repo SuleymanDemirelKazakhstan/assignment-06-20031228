{
 "cells": [
  {
   "cell_type": "code",
   "execution_count": 2,
   "metadata": {},
   "outputs": [],
   "source": [
    "import re"
   ]
  },
  {
   "cell_type": "code",
   "execution_count": 3,
   "metadata": {},
   "outputs": [],
   "source": [
    "def replace_entities_with_links(text, entities):\n",
    "    for entity in entities:\n",
    "        url = f\"https://en.wikipedia.org/wiki/{entity.replace(' ', '_')}\"\n",
    "        link = f'<a href=\"{url}\">{entity}</a>'\n",
    "        \n",
    "        text = re.sub(fr'\\b{re.escape(entity)}\\b', link, text)\n",
    "    return text\n"
   ]
  },
  {
   "cell_type": "code",
   "execution_count": 4,
   "metadata": {},
   "outputs": [],
   "source": [
    "news_text = (\n",
    "    \"Polls had predicted Bolsonaro's performance to be lower ahead of the first round, \"\n",
    "    \"but they were, within the margin of error, accurate in the percentage of votes that \"\n",
    "    \"Lula da Silva could receive. Now, in this final stage of a deeply polarized contest, \"\n",
    "    \"some of the research institutes that conduct these polls are drawing attention to the choices \"\n",
    "    \"being made .\"\n",
    ")"
   ]
  },
  {
   "cell_type": "code",
   "execution_count": 5,
   "metadata": {},
   "outputs": [],
   "source": [
    "entities = [\"Bolsonaro\", \"Lula da Silva\"]"
   ]
  }
 ],
 "metadata": {
  "kernelspec": {
   "display_name": "Python 3",
   "language": "python",
   "name": "python3"
  },
  "language_info": {
   "codemirror_mode": {
    "name": "ipython",
    "version": 3
   },
   "file_extension": ".py",
   "mimetype": "text/x-python",
   "name": "python",
   "nbconvert_exporter": "python",
   "pygments_lexer": "ipython3",
   "version": "3.11.4"
  }
 },
 "nbformat": 4,
 "nbformat_minor": 2
}
