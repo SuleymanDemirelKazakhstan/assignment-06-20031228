{
 "cells": [
  {
   "cell_type": "code",
   "execution_count": 7,
   "metadata": {},
   "outputs": [],
   "source": [
    "import re"
   ]
  },
  {
   "cell_type": "code",
   "execution_count": 8,
   "metadata": {},
   "outputs": [],
   "source": [
    "def replace_entities_with_links(text, entities):\n",
    "    for entity in entities:\n",
    "        url = f\"https://en.wikipedia.org/wiki/{entity.replace(' ', '_')}\"\n",
    "        link = f'<a href=\"{url}\">{entity}</a>'\n",
    "        \n",
    "        text = re.sub(fr'\\b{re.escape(entity)}\\b', link, text)\n",
    "    return text\n"
   ]
  },
  {
   "cell_type": "code",
   "execution_count": 9,
   "metadata": {},
   "outputs": [],
   "source": [
    "news_text = (\n",
    "    \"Polls had predicted Bolsonaro's performance to be lower ahead of the first round, \"\n",
    "    \"but they were, within the margin of error, accurate in the percentage of votes that \"\n",
    "    \"Lula da Silva could receive. Now, in this final stage of a deeply polarized contest, \"\n",
    "    \"some of the research institutes that conduct these polls are drawing attention to the choices \"\n",
    "    \"being made by women voters.\"\n",
    ")"
   ]
  },
  {
   "cell_type": "code",
   "execution_count": 10,
   "metadata": {},
   "outputs": [],
   "source": [
    "entities = [\"Bolsonaro\", \"Lula da Silva\"]"
   ]
  },
  {
   "cell_type": "code",
   "execution_count": 11,
   "metadata": {},
   "outputs": [
    {
     "name": "stdout",
     "output_type": "stream",
     "text": [
      "Polls had predicted <a href=\"https://en.wikipedia.org/wiki/Bolsonaro\">Bolsonaro</a>'s performance to be lower ahead of the first round, but they were, within the margin of error, accurate in the percentage of votes that <a href=\"https://en.wikipedia.org/wiki/Lula_da_Silva\">Lula da Silva</a> could receive. Now, in this final stage of a deeply polarized contest, some of the research institutes that conduct these polls are drawing attention to the choices being made by women voters.\n"
     ]
    }
   ],
   "source": [
    "result = replace_entities_with_links(news_text, entities)\n",
    "print(result)"
   ]
  }
 ],
 "metadata": {
  "kernelspec": {
   "display_name": "Python 3",
   "language": "python",
   "name": "python3"
  },
  "language_info": {
   "codemirror_mode": {
    "name": "ipython",
    "version": 3
   },
   "file_extension": ".py",
   "mimetype": "text/x-python",
   "name": "python",
   "nbconvert_exporter": "python",
   "pygments_lexer": "ipython3",
   "version": "3.11.4"
  }
 },
 "nbformat": 4,
 "nbformat_minor": 2
}
